{
 "cells": [
  {
   "cell_type": "markdown",
   "id": "61c58f2d",
   "metadata": {},
   "source": [
    "# Звіт з практичної роботи: Основи програмування на Python"
   ]
  },
  {
   "cell_type": "markdown",
   "id": "55533186",
   "metadata": {},
   "source": [
    "## 1. Демонстрація Першого Коду\n",
    "*Цей код демонструє використання змінних, f-рядків та модуля datetime.*"
   ]
  },
  {
   "cell_type": "code",
   "execution_count": null,
   "id": "8a25fe6a",
   "metadata": {},
   "outputs": [],
   "source": [
    "# Ваш перший робочий код (з ім'ям Вадим)\n",
    "from datetime import datetime\n",
    "\n",
    "name = \"Vadim\"\n",
    "location = \"Lviv\"\n",
    "\n",
    "print(f\"{name} start programing at {datetime.now()}. {location} is the best city!\")"
   ]
  },
  {
   "cell_type": "markdown",
   "id": "88deaf3b",
   "metadata": {},
   "source": [
    "## 2. Виконання Прикладів З Завдання"
   ]
  },
  {
   "cell_type": "code",
   "execution_count": null,
   "id": "c77bc91f",
   "metadata": {},
   "outputs": [],
   "source": [
    "# I. Типи Даних: str, int, float, list, tuple, dict, set\n",
    "a = \"Hello\"\n",
    "b = 10\n",
    "d = [\"a\", 1, 1.25]\n",
    "f = {\"key\": \"value\"}\n",
    "\n",
    "print(f\"Змінна 'a' (str): {a}\")\n",
    "print(f\"Змінна 'b' (int): {b}\")\n",
    "print(f\"Список 'd' (list): {d}\")\n",
    "print(f\"Словник 'f' (dict): {f}\")"
   ]
  },
  {
   "cell_type": "code",
   "execution_count": null,
   "id": "fa2748e7",
   "metadata": {},
   "outputs": [],
   "source": [
    "# IV. Цикли (for/else)\n",
    "letters = [\"A\", \"B\", \"C\"]\n",
    "for i in range(len(letters)):\n",
    "    print(f\"Буква: {letters[i]}\")\n",
    "else:\n",
    "    print(\"Цикл завершено.\")"
   ]
  },
  {
   "cell_type": "code",
   "execution_count": null,
   "id": "666bdd15",
   "metadata": {},
   "outputs": [],
   "source": [
    "# IV. Цикли (for/else)\n",
    "letters = [\"A\", \"B\", \"C\"]\n",
    "for i in range(len(letters)):\n",
    "    print(f\"Буква: {letters[i]}\")\n",
    "else:\n",
    "    print(\"Цикл завершено.\")"
   ]
  },
  {
   "cell_type": "code",
   "execution_count": null,
   "id": "2494824f",
   "metadata": {},
   "outputs": [],
   "source": [
    "# VI. Обробка Помилок (try/except/finally)\n",
    "try:\n",
    "    result = 10 / 0 # Спровокуємо помилку\n",
    "    print(result)\n",
    "except ZeroDivisionError as e:\n",
    "    print(f\"Виникла помилка: {e}\")\n",
    "finally:\n",
    "    print(\"Робота блоку завершена.\")"
   ]
  },
  {
   "cell_type": "markdown",
   "id": "f0dfae69",
   "metadata": {},
   "source": [
    "## 3. Відповідь на Запитання до AI\n",
    "*Нижче наведено відповідь, отриману від штучного інтелекту, на запитання про основи Python.*\n",
    "\n",
    "[Сюди вставте повний текст відповіді від AI]"
   ]
  },
  {
   "cell_type": "code",
   "execution_count": null,
   "id": "12149336",
   "metadata": {},
   "outputs": [],
   "source": [
    "# Приклад коду, отриманий від AI\n",
    "# (Обов'язково виконайте його, щоб з'явився вивід)\n",
    "# Наприклад:\n",
    "# for i in range(3):\n",
    "#     print(f\"Iteration: {i}\")"
   ]
  }
 ],
 "metadata": {
  "kernelspec": {
   "display_name": "Python 3",
   "language": "python",
   "name": "python3"
  },
  "language_info": {
   "name": "python",
   "version": "3.14.0"
  }
 },
 "nbformat": 4,
 "nbformat_minor": 5
}
