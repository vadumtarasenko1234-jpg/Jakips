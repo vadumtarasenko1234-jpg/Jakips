{
 "cells": [
  {
   "cell_type": "markdown",
   "id": "a7631cae",
   "metadata": {},
   "source": [
    "Це мій перший код"
   ]
  },
  {
   "cell_type": "code",
   "execution_count": null,
   "id": "4e5e28b6",
   "metadata": {},
   "outputs": [],
   "source": [
    "from datetime import datetime\n",
    "\n",
    "name = \"Vadim\"\n",
    "location = \"Lviv\"\n",
    "\n",
    "print(f\"{name} start programming at {datetime.now()}. {location} is the best city!\") "
   ]
  }
 ],
 "metadata": {
  "kernelspec": {
   "display_name": "Python 3",
   "language": "python",
   "name": "python3"
  },
  "language_info": {
   "name": "python",
   "version": "3.14.0"
  }
 },
 "nbformat": 4,
 "nbformat_minor": 5
}
